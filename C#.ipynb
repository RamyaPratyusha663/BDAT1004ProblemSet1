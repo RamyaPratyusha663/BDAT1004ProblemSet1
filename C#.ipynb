{
 "cells": [
  {
   "cell_type": "markdown",
   "id": "783fccc6",
   "metadata": {},
   "source": [
    "# //Problem Set 1\n",
    "\n",
    "Question 1 C#\n",
    "What data type is each of the following?"
   ]
  },
  {
   "cell_type": "code",
   "execution_count": 9,
   "id": "932ad002",
   "metadata": {},
   "outputs": [
    {
     "name": "stdout",
     "output_type": "stream",
     "text": [
      "System.Int32\r\n"
     ]
    }
   ],
   "source": [
    "dynamic f1 = 5;\n",
    "Console.WriteLine(f1.GetType());\n"
   ]
  },
  {
   "cell_type": "code",
   "execution_count": 51,
   "id": "6d686976",
   "metadata": {},
   "outputs": [
    {
     "name": "stdout",
     "output_type": "stream",
     "text": [
      "System.Double\r\n"
     ]
    }
   ],
   "source": [
    "dynamic f2 = 5.0;\n",
    "Console.WriteLine(f2.GetType());\n"
   ]
  },
  {
   "cell_type": "code",
   "execution_count": 52,
   "id": "722e20a2",
   "metadata": {},
   "outputs": [
    {
     "name": "stdout",
     "output_type": "stream",
     "text": [
      "System.Boolean\r\n"
     ]
    }
   ],
   "source": [
    "dynamic f3 = 5>1;\n",
    "Console.WriteLine(f3.GetType());\n"
   ]
  },
  {
   "cell_type": "code",
   "execution_count": 53,
   "id": "3ad64380",
   "metadata": {},
   "outputs": [
    {
     "name": "stdout",
     "output_type": "stream",
     "text": [
      "System.Char\r\n"
     ]
    }
   ],
   "source": [
    "dynamic f4 = '5';\n",
    "Console.WriteLine(f4.GetType());\n"
   ]
  },
  {
   "cell_type": "code",
   "execution_count": 54,
   "id": "92a1b02f",
   "metadata": {},
   "outputs": [
    {
     "name": "stdout",
     "output_type": "stream",
     "text": [
      "System.Int32\r\n"
     ]
    }
   ],
   "source": [
    "dynamic f5 = 5*2;\n",
    "Console.WriteLine(f5.GetType());\n"
   ]
  },
  {
   "cell_type": "code",
   "execution_count": 55,
   "id": "1ea446a4",
   "metadata": {},
   "outputs": [
    {
     "name": "stdout",
     "output_type": "stream",
     "text": [
      "System.Int32\r\n"
     ]
    }
   ],
   "source": [
    "dynamic f6 = '5'*2;\n",
    "Console.WriteLine(f6.GetType());\n"
   ]
  },
  {
   "cell_type": "code",
   "execution_count": 56,
   "id": "53680919",
   "metadata": {},
   "outputs": [
    {
     "name": "stdout",
     "output_type": "stream",
     "text": [
      "System.Int32\r\n"
     ]
    }
   ],
   "source": [
    "dynamic f7 = '5'+'2';\n",
    "Console.WriteLine(f7.GetType());\n"
   ]
  },
  {
   "cell_type": "code",
   "execution_count": 57,
   "id": "1fb8fded",
   "metadata": {},
   "outputs": [
    {
     "name": "stdout",
     "output_type": "stream",
     "text": [
      "System.Int32\r\n"
     ]
    }
   ],
   "source": [
    "dynamic f8 = 5/2;\n",
    "Console.WriteLine(f8.GetType());"
   ]
  },
  {
   "cell_type": "code",
   "execution_count": 58,
   "id": "635f6366",
   "metadata": {},
   "outputs": [
    {
     "name": "stdout",
     "output_type": "stream",
     "text": [
      "System.Int32\r\n"
     ]
    }
   ],
   "source": [
    "dynamic f9 = 5%2;\n",
    "Console.WriteLine(f9.GetType());\n"
   ]
  },
  {
   "cell_type": "code",
   "execution_count": null,
   "id": "170e7693",
   "metadata": {},
   "outputs": [],
   "source": [
    "//IntegerArray {5,2,1};"
   ]
  },
  {
   "cell_type": "markdown",
   "id": "eb423b0c",
   "metadata": {},
   "source": [
    "\n",
    "\n",
    "# Question 2 C#\n",
    "\n",
    "Write (and evaluate) C# expressions that answer these questions:\n",
    "a. How many letters are there in 'Supercalifragilisticexpialidocious'?\n",
    "b. Does 'Supercalifragilisticexpialidocious' contain 'ice' as a substring?\n",
    "c. Which of the following words is the longest:\n",
    "Supercalifragilisticexpialidocious, Honorificabilitudinitatibus, or\n",
    "Bababadalgharaghtakamminarronnkonn?\n",
    "d. Which composer comes first in the dictionary: 'Berlioz', 'Borodin', 'Brian',\n",
    "'Bartok', 'Bellini', 'Buxtehude', 'Bernstein'. Which one comes last?"
   ]
  },
  {
   "cell_type": "code",
   "execution_count": 10,
   "id": "fedc07d2",
   "metadata": {},
   "outputs": [
    {
     "name": "stdout",
     "output_type": "stream",
     "text": [
      "34\r\n"
     ]
    }
   ],
   "source": [
    "//Q2 a.How many letters are there in 'Supercalifragilisticexpialidocious'?\n",
    "int count = 0;\n",
    "string s1 = \"Supercalifragilisticexpialidocious\";\n",
    "foreach(char c in s1)\n",
    "{\n",
    "   count++;\n",
    "}\n",
    "Console.WriteLine(count);\n"
   ]
  },
  {
   "cell_type": "code",
   "execution_count": 18,
   "id": "2d429501",
   "metadata": {},
   "outputs": [
    {
     "name": "stdout",
     "output_type": "stream",
     "text": [
      "Word ice is there\r\n"
     ]
    }
   ],
   "source": [
    "//Q2 b. Does 'Supercalifragilisticexpialidocious' contain 'ice' as a substring?\n",
    "if(s1.Contains(\"ice\")==true)\n",
    "{\n",
    "  Console.WriteLine(\"Word ice is there\");\n",
    "}\n",
    "else\n",
    "{\n",
    "Console.WriteLine(\"Word ice not there\");\n",
    "}\n",
    "\n"
   ]
  },
  {
   "cell_type": "code",
   "execution_count": 22,
   "id": "545a8f4f",
   "metadata": {},
   "outputs": [
    {
     "name": "stdout",
     "output_type": "stream",
     "text": [
      "Bababadalgharaghtakamminarronnkonn is longest\r\n"
     ]
    }
   ],
   "source": [
    "//Q2 c.Which of the following words is the longest:Supercalifragilisticexpialidocious, Honorificabilitudinitatibus, orBababadalgharaghtakamminarronnkonn?\n",
    "\n",
    "string s2 = \"Honorificabilitudinitatibus\";\n",
    "string s3 = \"Bababadalgharaghtakamminarronnkonn\";\n",
    "\n",
    "if (s1.Length > s2.Length & s1.Length > s3.Length)\n",
    "{\n",
    "    Console.WriteLine(\"Supercalifragilisticexpialidocious is longest\");\n",
    "}\n",
    "else if (s2.Length > s1.Length & s2.Length > s3.Length)\n",
    "{\n",
    "    Console.WriteLine(\"Honorificabilitudinitatibus is longest\");\n",
    "}\n",
    "else\n",
    "{\n",
    "    Console.WriteLine(\"Bababadalgharaghtakamminarronnkonn is longest\");\n",
    "}\n"
   ]
  },
  {
   "cell_type": "code",
   "execution_count": 42,
   "id": "68efe01b",
   "metadata": {},
   "outputs": [
    {
     "name": "stdout",
     "output_type": "stream",
     "text": [
      "first in the list : Bartok\n",
      "last in the list : Buxtehude\n"
     ]
    }
   ],
   "source": [
    "//Q2 d.Which composer comes first in the dictionary: 'Berlioz', 'Borodin', 'Brian','Bartok', 'Bellini', 'Buxtehude', 'Bernstein'. Which one comes last?\n",
    "\n",
    "List<string> lst = new List<string>();\n",
    "lst.Add(\"Berlioz\");\n",
    "lst.Add(\"Borodin\");\n",
    "lst.Add(\"Brian\");\n",
    "lst.Add(\"Bartok\");\n",
    "lst.Add(\"Bellini\");\n",
    "lst.Add(\"Buxtehude\");\n",
    "lst.Add(\"Bernstein\");\n",
    "lst.Sort();\n",
    "Console.WriteLine(\"first in the list : \" + lst[0]);\n",
    "lst.Reverse();\n",
    "Console.WriteLine(\"last in the list : \" + lst[0]);"
   ]
  },
  {
   "cell_type": "markdown",
   "id": "80787df4",
   "metadata": {},
   "source": [
    "\n",
    "\n",
    "\n",
    "# Question 3\n",
    "\n",
    "Implement function triangleArea(a,b,c) that takes as input the lengths of the 3\n",
    "sides of a triangle and returns the area of the triangle. By Heron's formula, the area\n",
    "of a triangle with side lengths a, b, and c is\n",
    "s(s - a)(s -b)(s -c)\n",
    ", where\n",
    "s = (a+b+c)/2."
   ]
  },
  {
   "cell_type": "code",
   "execution_count": 8,
   "id": "3ba59563",
   "metadata": {},
   "outputs": [
    {
     "name": "stdout",
     "output_type": "stream",
     "text": [
      "Area of Triangle : 1.7320508075688772\r\n"
     ]
    }
   ],
   "source": [
    "// Q3 Implement function triangleArea(a,b,c) that takes as input the lengths of the 3sides of a triangle and returns the area of the triangle. By Heron's formula, the areaof a triangle with side lengths a, b, and c iss(s - a)(s -b)(s -c), where s = (a+b+c)/2. \n",
    "\n",
    "public static double triangleArea(int a, int b, int c)\n",
    "{\n",
    "    double s = (a + b + c) / 2;\n",
    "    double area = Math.Sqrt(s * (s - a) *\n",
    "        (s - b) * (s - c));\n",
    "    return area;\n",
    "}\n",
    "double area = triangleArea(2, 2, 2);\n",
    "Console.WriteLine($\"Area of Triangle : {area}\")"
   ]
  },
  {
   "cell_type": "markdown",
   "id": "14da7b62",
   "metadata": {},
   "source": [
    "\n",
    "# Question 4 C#\n",
    "\n",
    "Write a program in C# Sharp to separate odd and even integers in separate arrays.\n",
    "Go to the editor\n",
    "Test Data :\n",
    "Input the number of elements to be stored in the array :5\n",
    "Input 5 elements in the array :\n",
    "element - 0 : 25\n",
    "element - 1 : 47\n",
    "element - 2 : 42\n",
    "element - 3 : 56\n",
    "element - 4 : 32\n",
    "Expected Output:\n",
    "The Even elements are:\n",
    "42 56 32\n",
    "The Odd elements are :\n",
    "25 47\n"
   ]
  },
  {
   "cell_type": "code",
   "execution_count": 5,
   "id": "71b5e6c5",
   "metadata": {},
   "outputs": [
    {
     "name": "stdout",
     "output_type": "stream",
     "text": [
      "\n",
      "Even  Number\n",
      "42\n",
      "56\n",
      "32\n",
      "\n",
      "Odd  Number\n",
      "25\n",
      "47\n"
     ]
    }
   ],
   "source": [
    "//Q4.\n",
    "int[]arr = new int[5]; \n",
    "        arr[0] = 25;  \n",
    "        arr[1] = 47;  \n",
    "        arr[2] = 42; \n",
    "        arr[3] = 56;\n",
    "        arr[4]=  32;\n",
    "           Console.WriteLine(\"\\nEven  Number\");\n",
    "        for(int i=0;i<5;i++)\n",
    "        {\n",
    "            if(arr[i]%2==0)\n",
    "            {\n",
    "            Console.WriteLine(arr[i]);  \n",
    "            }\n",
    "        }\n",
    "        Console.WriteLine(\"\\nOdd  Number\"); \n",
    "          for(int i=0;i<5;i++)\n",
    "        {\n",
    "            if(arr[i]%2!=0)\n",
    "            {\n",
    "            Console.WriteLine(arr[i]);  \n",
    "}\n",
    "}"
   ]
  },
  {
   "cell_type": "markdown",
   "id": "5fb25884",
   "metadata": {},
   "source": [
    "\n",
    "# Question 5 C#\n",
    "\n",
    "a. Write a function inside(x,y,x1,y1,x2,y2) that returns True or False\n",
    "depending on whether the point (x,y) lies in the rectangle with lower left\n",
    "corner (x1,y1) and upper right corner (x2,y2).\n",
    ">>> inside(1,1,0,0,2,3)\n",
    "True\n",
    ">>> inside(-1,-1,0,0,2,3)\n",
    "False\n",
    "b. Use function inside() from part a. to write an expression that tests whether\n",
    "the point (1,1) lies in both of the following rectangles: one with lower left\n",
    "corner (0.3, 0.5) and upper right corner (1.1, 0.7) and the other with lower\n",
    "left corner (0.5, 0.2) and upper right corner (1.1, 2). "
   ]
  },
  {
   "cell_type": "code",
   "execution_count": 6,
   "id": "7ba3cd36",
   "metadata": {},
   "outputs": [
    {
     "name": "stdout",
     "output_type": "stream",
     "text": [
      "----------PART a.--------\n",
      "\n",
      "inside(1,1,0,0,2,3):True\n",
      "inside(-1,-1,0,0,2,3):False\n",
      "\n",
      "----------PART b.--------\n",
      "\n",
      "The points (1,1) doesn't lie in both of the following rectangles\n",
      "\n",
      "inside(1,1,0.3,0.5,1.1,0.7):False\n",
      "inside(1,1,0.5,0.2,1.1,2):True\n"
     ]
    }
   ],
   "source": [
    "//QUESTION 5\n",
    "public static bool inside(double x, double y, double x1, double y1, double x2, double y2)\n",
    "{  \n",
    "\n",
    "    if (x > x1 && x < x2 &&\n",
    "        y > y1 && y < y2)\n",
    "        return true;\n",
    "\n",
    "    return false;\n",
    "}\n",
    "\n",
    "Console.WriteLine(\"----------PART a.--------\\n\");\n",
    "Console.WriteLine($\"inside(1,1,0,0,2,3):{inside(1,1,0,0,2,3)}\");\n",
    "Console.WriteLine($\"inside(-1,-1,0,0,2,3):{inside(-1,-1,0,0,2,3)}\\n\");\n",
    "\n",
    "\n",
    "Console.WriteLine(\"----------PART b.--------\\n\");\n",
    "\n",
    "\n",
    "if(inside(1,1,0.3,0.5,1.1,0.7) && inside(1,1,0.5,0.2,1.1,2)){\n",
    "    Console.WriteLine(\"the points (1,1) lies in both of the following rectangles\");\n",
    "}\n",
    "else{\n",
    "    Console.WriteLine(\"The points (1,1) doesn't lie in both of the following rectangles\");\n",
    "}\n",
    "Console.WriteLine($\"\\ninside(1,1,0.3,0.5,1.1,0.7):{inside(1,1,0.3,0.5,1.1,0.7)}\");\n",
    "Console.WriteLine($\"inside(1,1,0.5,0.2,1.1,2):{inside(1,1,0.5,0.2,1.1,2)}\");"
   ]
  }
 ],
 "metadata": {
  "kernelspec": {
   "display_name": ".NET (C#)",
   "language": "C#",
   "name": ".net-csharp"
  },
  "language_info": {
   "file_extension": ".cs",
   "mimetype": "text/x-csharp",
   "name": "C#",
   "pygments_lexer": "csharp",
   "version": "8.0"
  }
 },
 "nbformat": 4,
 "nbformat_minor": 5
}
